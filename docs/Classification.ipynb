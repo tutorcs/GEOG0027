{
 "cells": [
  {
   "cell_type": "markdown",
   "metadata": {},
   "source": [
    "<img style=\"float: left\" src=\"images/ucl_logo.png\">\n"
   ]
  },
  {
   "cell_type": "markdown",
   "metadata": {},
   "source": [
    "# Classification using ENVI 5.5"
   ]
  },
  {
   "cell_type": "markdown",
   "metadata": {},
   "source": [
    "## Aims"
   ]
  },
  {
   "cell_type": "markdown",
   "metadata": {},
   "source": [
    "After completing this practical, you should be able to analyse one or more image datasets using classification methods. This includes learning to identify land cover classes in a dataset and consider class separability (using histograms, scatterplots and other tools), and applying and assessing a classification product using Envi. "
   ]
  },
  {
   "cell_type": "markdown",
   "metadata": {},
   "source": [
    "## Introduction"
   ]
  },
  {
   "cell_type": "markdown",
   "metadata": {},
   "source": [
    "The datasets you need for this practical are available from the [Classification data (Rondônia) folder on moodle]() or you can download them individually:\n",
    "\n",
    "https://moodle.ucl.ac.uk/mod/folder/view.php?id=2749790\n",
    "* [ETM-110801](https://www.dropbox.com/s/00ry60nu6281umi/ETM-110801?dl=0)\n",
    "* [ETM-110801.HDR](https://www.dropbox.com/s/ojx1patlqhxf5ci/ETM-110801.HDR?dl=0)\n",
    "* [TM-250792](https://www.dropbox.com/s/3ww9oera1y1858a/TM-250792?dl=0)\n",
    "* [TM-250792.HDR](https://www.dropbox.com/s/x3r6j66ilc57u3e/TM-250792.HDR?dl=0)\n",
    "\n",
    "With accompanying elevation data\n",
    "* [SRTM-2002](https://www.dropbox.com/s/jdcdb85ltublhdo/SRTM-2002?dl=0)\n",
    "* [SRTM-2002.HDR](https://www.dropbox.com/s/8zir0gmm9aycy0s/SRTM-2002.HDR?dl=0)\n",
    "\n",
    "\n",
    "You should download these data and put them in a directory (folder) that you will remember!\n",
    "\n",
    "See [Classification Introduction](https://github.com/qwu-570/GEOG0027/blob/2020-2021/docs/ClassificationIntro.ipynb) for more details on the context and datasets.\n"
   ]
  },
  {
   "cell_type": "markdown",
   "metadata": {},
   "source": [
    "## Examination of the data"
   ]
  },
  {
   "cell_type": "markdown",
   "metadata": {},
   "source": [
    "Load up the two images and examine the data. Try to identify the various classes you might like to obtain for this exercise decide how you can identify them. Examine feature space plots (scatter plots) to help you decide what may be feasible (and what may not). **You may decide that transformations of the data (e.g. band ratios or Principal Components) might aid your ability (and the computer's ability) to discriminate between classes**, but you should simply explore the data to start with."
   ]
  },
  {
   "cell_type": "markdown",
   "metadata": {},
   "source": [
    "Some examples of the various classes you might consider (shown on a standard False Colour Composite (FCC) image):\n",
    "\n",
    "|Class | Notes | Example |\n",
    "| ---- | ----    | ---- |\n",
    "| **Urban** | May also include other 'built' structures such as roads. You should be able to recognise these from their spatial structure, even at this resolution | [![urban](images/urban.gif)](images/urban.gif)|\n",
    "| **Forest** | This should be easy to spot, but there are sometime clear 'shading' effects (as in this example) that might complicate classification | [![forest](images/forest.gif)](images/forest.gif)|\n",
    "| **Rocks** | Rocks are quite easily identifiable in the FCC images. You would generally expect them to be static between the two dates. | [![rocks](images/rocks.gif)](images/rocks.gif)|\n",
    "| **Rivers** | There are rivers and other water bodies in the scene, which you will be able to recognise by their shape. They will be difficult to use as training sites as they are quite narrow at this resolution. | [![rivers](images/rivers.gif)](images/rivers.gif)|\n",
    "| **Farmland** | You will see a broad patchwork of areas that have been cleared of forest and used to graze cattle or raise crops.  The areas a quite easy to spot in the FCC images, but might represent a broad spectral class because of the various physical cover types involved | [![ranch](images/ranch.gif)](images/ranch.gif)|\n",
    "| **Other** | You may spot some areas that have rather different spectral properties to most of the other areas. One example is shown here of field-shaped areas (green and purple areas) that might be inferred to be farmland, but are clearly different spectrally to other areas of farmland. We cannot really determine what these areas are from the information available, so you might require an 'other' class to cope with such eventualities. | [![other](images/other.gif)](images/other.gif)|\n",
    "| **Cloud** | The images may contain a small amount of cloud or smoke/haze, an example of which is shown here. They are quite easy to recognise visually in the FCC, but may be difficult to classify unless they are quite thick. If there are any thick clouds, you may see cloud shadows on the ground as well. | [![cloud](images/cloud.gif)](images/cloud.gif)|\n",
    "\n",
    "\n",
    "\n",
    "You may make use of Google Maps to explore detail of the areas, e.g., if you zoom in to the 'rock' area, you will find it is is actually more complex than just 'bare rock':\n",
    "\n",
    "![mymovie](images/mymovie.gif)\n",
    "\n",
    "When deciding which classes may be appropriate to use, you should make use of your understanding of histograms and scatterplots, and use these to help explore the image information content."
   ]
  },
  {
   "cell_type": "markdown",
   "metadata": {},
   "source": [
    "## Defining spectral classes"
   ]
  },
  {
   "cell_type": "markdown",
   "metadata": {},
   "source": [
    "In order to classify the image data you are required to define a set of \"signatures\" which represent each class. These are then used to \"train\" the classification algorithm.\n",
    "\n",
    "In envi, you need to define these classes via ROIs (Regions of Interest). Select the ROI tool:\n",
    "\n",
    "![roi](images/roi.png)\n",
    "\n",
    "and outline an ROI you want to define with the tool:\n",
    "\n",
    "![roii](images/roii.png)\n",
    "\n",
    "\n",
    "You may find the ['N-D visualiser'](http://www.exelisvis.com/docs/nDimensionalVisualizer.html) useful when doing this:\n",
    "\n",
    "![send](images/send.png)\n",
    "\n",
    "If you select only 2 bands to view, you will see informatyion similar to the scatterplot (i.e. 2-dimensional). \n",
    "\n",
    "![btwo](images/btwo.png)\n",
    "\n",
    "In such a view, you can readily 'see' how separable the classes might be.\n",
    "\n",
    "In higher dimensions, the visualiser 'rotates' the view so you can get different perspectives on the classes\n",
    "\n",
    "![classes](images/classes.gif)\n",
    "\n",
    "Note that you will want to create an ROI for each class you are interested in, but that yoy can 'merge' (or delete) classes once you have created them.\n",
    "\n",
    "When you think you have a suitable set of ROIs, check the class separability:\n",
    "\n",
    "![sep](images/sep.png)\n",
    "\n",
    "This outputs Divergence metrics between the classes you have defined. These values range between 0 and 2.0. As a guide to interpretation, values greater than 1.9 indicate good separability of classes. If class separability is less than this, you might consider splitting the classes for the classification and recombining them post-classification (e.g. have two classes: forest1 and forest2).\n",
    "\n",
    "![sep2](images/sep2.png)\n",
    "\n",
    "\n",
    "\n",
    "Then, make sure you save them (to xml format):\n",
    "\n",
    "![myclasses](images/myclasses.png)\n",
    "\n"
   ]
  },
  {
   "cell_type": "markdown",
   "metadata": {},
   "source": [
    "## Image Classification"
   ]
  },
  {
   "cell_type": "markdown",
   "metadata": {},
   "source": [
    "To perform a classification, first look at the options in the Toolbox:\n",
    "\n",
    "\n",
    "![opt](images/opt.png)\n",
    "\n",
    "\n",
    "As a first attempt, try the [Maximum Likelihood](http://www.exelisvis.com/docs/MaximumLikelihood.html) classifier.\n",
    "\n",
    "A [Tutorial](http://www.exelisvis.com/portals/0/pdfs/envi/Classification_Methods.pdf) is available that will take you through some of the other options.\n",
    "\n",
    "For the [Maximum Likelihood](http://www.exelisvis.com/docs/MaximumLikelihood.html) classifier, slect this itme from the Toolbox:\n",
    "\n",
    "![load](images/load.png)\n",
    "\n",
    "and perform any subsetting or masking that you might require.\n",
    "\n",
    "Then, select the Classes you want from the ROIs you have defined, along with making decisions about whether you want to save the result or not (if not, then just send it to 'memory', but it will not then be saved at the end of the session). If you do save the result, make sure you note down (in your notebook) what the file name was and what settings you used (e.g. which classes). \n",
    "\n",
    "![m1](images/ml.png)\n",
    "\n",
    "You should now have a classification result:\n",
    "\n",
    "![pink](images/pink.png)\n",
    "\n"
   ]
  },
  {
   "cell_type": "markdown",
   "metadata": {},
   "source": [
    "It is generally very instructive to visualise the 'rule' image associated with a result. This provides you with the reasoning the computer used to obtain the result it did.\n",
    "\n",
    "For a method such as that used above, the training data are used to generate multivariate statistical distributions that we suppose to describe the full class. Each pixel then can be assigned a probability of class membership. The class which has the highest membership probability is usually assigned that class label.\n",
    "\n",
    "![prob](images/prob.png)\n",
    "\n",
    "What issues might occur if the probability of belonging to more than one class is very similar?\n",
    "\n",
    "There appear to be topographic effects in the class probability images: why would that be so? and what might you do about it?"
   ]
  },
  {
   "cell_type": "markdown",
   "metadata": {},
   "source": [
    "##  Accuracy Assessment"
   ]
  },
  {
   "cell_type": "markdown",
   "metadata": {},
   "source": [
    "It is not very difficult to produce a classified map using earth observation data. You have now been through the process ofsupervised classification (using one method).\n",
    "\n",
    "How can we tell how good this is though?\n",
    "\n",
    "One thing you may wish to do is to examine the post-classification class statistics:\n",
    "\n",
    "![post](images/post.png)\n",
    "\n",
    "There are various other options that you may find useful to explore in the Post Classification section of the toolbox."
   ]
  },
  {
   "cell_type": "markdown",
   "metadata": {},
   "source": [
    "A vital part of the classification process though is an assessment of classification accuracy.\n",
    "\n",
    "This is generally done as a [confusion matrix](http://www.exelisvis.com/docs/CalculatingConfusionMatrices.html).\n",
    "\n",
    "In setting this up, you need either to have a ground truth 'image', or a set of ROIs that can be used for ground truth.\n",
    "\n",
    "You should first generate a new (independent) set of ROIs (or better still, use random samples) for your classes. If you use random samples, you can check what you think the land cover class should be using Google Earth/Maps as above.\n",
    "\n",
    "Once you have your confusion matrix, make sure that you understand what it is telling you (and as far as possible, why that is so).\n",
    "\n",
    "If the classification result seems poor, you can go back and edit your settings or class definitions and re-try, but try to keep the ROIs you use for checking independent of this process.\n",
    "\n",
    "Make sure you understand the terms we use to describe the different accuracies shown in the confusion matrix, and also [what a kappa coefficient is](http://www.exelisvis.com/docs/CalculatingConfusionMatrices.html)."
   ]
  },
  {
   "cell_type": "markdown",
   "metadata": {},
   "source": [
    "## Further Work"
   ]
  },
  {
   "cell_type": "markdown",
   "metadata": {},
   "source": [
    "In this practical, you have gone through the process of performing an image classification and assessing its accuracy.\n",
    "\n",
    "To finish the practical, you should classify *both* of the Landsat datasets you have, and calculate the change in forest area between the two dates. Since you have an accuracy assessment, it should be feasible for you to put an uncertainty on that estimate of change."
   ]
  },
  {
   "cell_type": "markdown",
   "metadata": {},
   "source": [
    "## Summary"
   ]
  },
  {
   "cell_type": "markdown",
   "metadata": {},
   "source": [
    "The main aim of this practical is to reinforce your understanding of the classification process and for you to gain practical experience at this.\n",
    "\n",
    "It would be worthwhile exploring some of the options you have available (e.g. try some different classifiers).\n",
    "\n",
    "Since there is quite a lot of 'button clicking' in this exercise, *make sure* that you understand what you are doing and why you are getting the result you do -- there is very little value in the exercise otherwise!\n",
    "\n",
    "If you have questions, ask the staff!\n",
    "\n",
    "If you are very interested in change detection, you could explore the [change detection options in ENVI](http://www.exelisvis.com/docs/ChangeDetectionAnalysis.html)."
   ]
  }
 ],
 "metadata": {
  "celltoolbar": "Raw Cell Format",
  "kernelspec": {
   "display_name": "Python 3",
   "language": "python",
   "name": "python3"
  },
  "language_info": {
   "codemirror_mode": {
    "name": "ipython",
    "version": 3
   },
   "file_extension": ".py",
   "mimetype": "text/x-python",
   "name": "python",
   "nbconvert_exporter": "python",
   "pygments_lexer": "ipython3",
   "version": "3.6.12"
  },
  "toc": {
   "base_numbering": 1,
   "nav_menu": {},
   "number_sections": false,
   "sideBar": false,
   "skip_h1_title": false,
   "title_cell": "Table of Contents",
   "title_sidebar": "Contents",
   "toc_cell": false,
   "toc_position": {},
   "toc_section_display": false,
   "toc_window_display": false
  }
 },
 "nbformat": 4,
 "nbformat_minor": 4
}
