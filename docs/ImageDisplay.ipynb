{
 "cells": [
  {
   "cell_type": "markdown",
   "metadata": {},
   "source": [
    "<img style=\"float: left\" src=\"images/ucl_logo.png\">\n"
   ]
  },
  {
   "cell_type": "markdown",
   "metadata": {},
   "source": [
    "# Image Display and Enhancement using ENVI 5.5"
   ]
  },
  {
   "cell_type": "markdown",
   "metadata": {},
   "source": [
    "[Prof. M. Disney](http://www2.geog.ucl.ac.uk/~mdisney)\n",
    "\n",
    "[Dr H. Heorton](http://www.ucl.ac.uk/earth-sciences/people/research-staff/dr-harry-heorton)\n",
    "\n",
    "[Prof. P. Lewis](http://www2.geog.ucl.ac.uk/~plewis)\n",
    "\n",
    "Department of Geography\n",
    "    \n",
    "University College London\n",
    "    \n",
    "![europe](images/europe.jpg)"
   ]
  },
  {
   "cell_type": "markdown",
   "metadata": {},
   "source": [
    "## Aims"
   ]
  },
  {
   "cell_type": "markdown",
   "metadata": {},
   "source": [
    " After completing this practical, you should have a reasonable idea of a range of basic functions within an image processing software, envi. You should also have started to make some sense of how the theory you are learning in the lectures can be used to manipulate image data.\n",
    " \n",
    "There are three options for where to run the practical:\n",
    "1. On the Unix machines in this room.\n",
    "2. Via <a href=\"https://www.ucl.ac.uk/isd/services/computers/remote-access/desktopucl-anywhere\" target=\"_blank\">UCL Desktop</a> (great for remote access so you can work from home).\n",
    "3. On your own machine (requires an independent install of ENVI)."
   ]
  },
  {
   "cell_type": "markdown",
   "metadata": {},
   "source": [
    "## Data\n",
    "\n",
    "The datasets you need for this practical should be available to you on moodle ( https://moodle.ucl.ac.uk/mod/folder/view.php?id=3523432):\n",
    "\n",
    "Alternatively they are available here (via dropbox).\n",
    "* [ETM-190600](https://www.dropbox.com/s/a6q9k52arscz7tm/ETM-190600?dl=0)\n",
    "* [ETM-190600.HDR](https://www.dropbox.com/s/rnclhr1jtu1c0x4/ETM-190600.HDR?dl=0)\n",
    "* [TM-280589](https://www.dropbox.com/s/4aubve362tkqdnh/TM-280589?dl=0)\n",
    "* [TM-280589.HDR](https://www.dropbox.com/s/1bh5423bf0ka7u7/TM-280589.HDR?dl=0)\n",
    "\n",
    "For the UNIX lab, you can use the `Terminal` app to download the images (very efficicent  but requires learning how to use it). For some examples of how to navigate around the `Terminal` or the Windows `Command Prompt` look <a href=\"https://github.com/UCL-EO/GEOG0027/blob/main/docs/Terminal_examples.ipynb\" target=\"_blank\">here</a>. Note use `Shift+Ctrl+V` to paste into a Unix terminal.\n",
    "\n",
    "We suggest making a directory (another name for a folder) in your home directory, for example:\n",
    "* /home/uclid123@ucl.ac.uk/GEOG0027/DATA/\n",
    "\n",
    "that can be made using `mkdir` commands.\n",
    "\n",
    "Similarly for UCL Desktop you can download them into:\n",
    "* your personal N: Drive, e.g. `N:\\GEOG0027\\data`. (UCL Desktop)\n",
    "\n",
    "Once in the correct directory use these commands to get the images (copy them into the terminal). First\n",
    "* `wget -c https://www.dropbox.com/sh/ozkdf6jbfs8a0b8/AABmGKxs5pqnLnbtRFQWQlYKa?dl=0 -O images.zip`\n",
    "\n",
    "This downloads a zip file, that can be opened using:\n",
    "* `unzip images.zip`\n",
    "\n",
    "Alternatively you can use a normal file explorer and download using this web page."
   ]
  },
  {
   "cell_type": "markdown",
   "metadata": {},
   "source": [
    "The data you will be using are:\n",
    "\n",
    "* six wavebands of a [Landsat TM](https://landsat.gsfc.nasa.gov/satellites/landsat-4/) image over Greater London, imaged on May 28th 1989. The data were obtained from the [GLCF](https://geog.umd.edu/feature/global-land-cover-facility-%28glcf%29) which maintains a large database of (freely available) Landsat and other imagery. The data are at an original pixel spacing of 28.5 m, but have been resampled to a 25 m grid here. The data are in a Transverse Mercator projection with OSGB 1936 datum (Great Birtain Ordinance Survey). \n",
    "\n",
    "* six wavebands (nominally the same wavelengths) of a Landsat ETM image with 25 m spatial resolution, covering the same spatial extent. These data were obtained on June 19th 2000. The data were obtained from Landmap which contains a database available to Universities and other users through an Athens login (done via the institution you are at). \n",
    "\n",
    "The wavebands are:\n",
    "\n",
    "|1|2|3|4|5|6|\n",
    "| --- | --- | --- | --- | --- | --- |\n",
    "| blue | green | red | nir |swir 1 | swir 2 |\n",
    "|450-520 nm|520-600 nm| 630-690 nm|760-900 nm|1550-1750 nm|2080-2350 nm|\n",
    "\n",
    "The extent of the imagery is (Lat/Lon): \n",
    "\n",
    "$$\n",
    "    51^o 43'   9.23'' North, 0^o 36' 18.37'' West \n",
    "$$\n",
    "\n",
    "to\n",
    "\n",
    "\n",
    "$$\n",
    "    51^o 16' 29.32'' North,  0^o 27' 24.60'' East\n",
    "$$"
   ]
  },
  {
   "cell_type": "markdown",
   "metadata": {},
   "source": [
    "##  Introduction"
   ]
  },
  {
   "cell_type": "markdown",
   "metadata": {},
   "source": [
    "***In this section, we will learn how to do a one time setup of the ENVI preferences and to load a false colour composite image***."
   ]
  },
  {
   "cell_type": "markdown",
   "metadata": {},
   "source": [
    "\n",
    "The purpose of this practical is for you to gain experience in image display and enhancement of EO data. The session will be normally run as  two hour supervised practical. You may not complete all tasks in detail in that time, so once you get the hang of how to use the tool, move on to the next section and return later to think more about the remote sensing. \n",
    "\n",
    "\n",
    "There are alternate ways to work:\n",
    "1. The UNIX workstations also have the ENVI software installed, and you may find this option the fastest for image display. To launch ENVI, open `Terminal`, and then type `envi`. When considering accessing saved work from multiple locations there is another option:\n",
    "2. UCL Desktop. ENVI will run straight away from UCL Desktop when you've navigated to it. There are several versions - use ENVI 5.5.3 (64 bit). DO NOT USE ENVI Classic!\n",
    "2. For personal machines the ENVI software is available from the [UCL Software Database](https://swdb.ucl.ac.uk/package/view/id/142), with installation instructions [for mac](https://www.ucl.ac.uk/isd/how-to/how-to-install-envi-54-for-mac), [for windows](https://www.ucl.ac.uk/isd/how-to/how-to-install-envi-54-for-windows). Note that running ENVI on your own machine will require you to first run the license server.\n",
    "\n",
    "These notes are not intended to be a comprehensive introduction to ENVI functionality. They serve as an introduction to remote sensing and image processing, presuming no prior knowedge. Further information on envi tools and fuctions can be found in the [on-line help pages](https://www.l3harrisgeospatial.com/docs/tutorials.html). "
   ]
  },
  {
   "cell_type": "markdown",
   "metadata": {},
   "source": [
    "Starting ENVI on UNIX machines and on UCL Desktop reveals an empty display.\n",
    "\n",
    "![screen1](images/ENVI_open.png)\n",
    "\n",
    "For personal machines you may get a similar display.\n",
    "\n",
    "![screen1](images/screen1.jpg)"
   ]
  },
  {
   "cell_type": "markdown",
   "metadata": {},
   "source": [
    "The first time you use the tool, you may find it convenient to update the default data location.\n",
    "\n",
    "You can access this via the `File->Preferences` menu. Then select `Directories` from the left hand column. Select `Input Directory`, select the little arrow, and find the directory we made and put the data in earlier.\n",
    "\n",
    "On UCL Desktop: this window:\n",
    "![prefs](images/ENVI_dirs.png)\n",
    "\n",
    "for UNIX/Personal\n",
    "![prefs](images/prefs.png)\n",
    "\n",
    "This display can be rather slow. To move up a directory double click on the `..`."
   ]
  },
  {
   "cell_type": "markdown",
   "metadata": {},
   "source": [
    "Typically, we will want to change the `Input Directory` and `Output Directory` to where you are currently working, \n",
    "\n",
    "e.g. `N:\\GEOG0027\\data` on UCL Desktop Anywhere (where we save the data earlier, when navigating this will be under `This PC`), or \n",
    "`/Users/xxxx/GEOG0027/data` on a Mac, or `/home/uclid123@ucl.ac.uk/DATA/GEOG0027/data` or similar on the UCL Unix system.\n",
    "\n",
    "**Make a note of where your image data are**, so that you can find them the next time!\n",
    "\n",
    "*For versions below 5.5.3, you have to quit and restart ENVI for these changes to take effect.*\n",
    "\n",
    "\n",
    "You should now be able to open an image dataset: select `File->Data Manager` from the menu.\n",
    "\n",
    "\n",
    "\n",
    "Click on the file tab, and choose an image file to open e.g. `ETM-190600`. Do not select the `HDR` files as these are header files. You may need to fist use the open icon (brown folder, top left) to find the file.\n",
    "\n",
    "![open1](images/ENVI_data_man.png)\n",
    "\n",
    "\n",
    "\n",
    "From which you can select one or more 'bands' to open and assign to the red, green and blue colour guns.\n"
   ]
  },
  {
   "cell_type": "markdown",
   "metadata": {},
   "source": [
    "## Exploration"
   ]
  },
  {
   "cell_type": "markdown",
   "metadata": {},
   "source": [
    "***In this section, we use various tools for exploring the image***.\n",
    "\n",
    "Once you have loaded an image, explore how to pan and zoom around the image\n",
    "\n",
    "\n",
    "Whilst doing this, examine some of the features you see in the image:\n",
    "\n",
    "* The `crosshairs` can be used (and/or `cursor value`, looks like a \"dropped pin\") to explore the geographical coordinates and the digital number (DN) in the three wavebands you are examining.\n",
    "    * How do the DNs compare for lighter/darker regions of the image?\n",
    "    * how could you check that the geographic coordinates seem sensible?\n",
    "    * try to relate the visual cues you see in the data to the DN values being shown\n",
    "    * use these ideas to interpret 'colour' as displayed in the image\n",
    "      e.g. what does the 'red' colour *mean* and why is it so?\n",
    "\n",
    "\n",
    "Find out how to `Change RGB bands ...` for the image you are viewing and use this to display e.g. a real colour composite.\n",
    "\n",
    "* Try some different band combinations and make sure you can interpret the colour you see\n",
    "* What happens if you put the same band onto R G and B? why?\n",
    "\n",
    "\n",
    "\n",
    "***Make sure you make notes of what you have done and how you have done it so you can recall this later.***"
   ]
  },
  {
   "cell_type": "markdown",
   "metadata": {},
   "source": [
    "## Spectral Features"
   ]
  },
  {
   "cell_type": "markdown",
   "metadata": {},
   "source": [
    "***In this section, we will learn how to consider spectral features and perform contrast enhancement***.\n",
    "\n",
    "Clearly, we can 'recognise' much information in the image from spatial context.\n",
    "\n",
    "![rgb](images/rgb.jpg)\n",
    "\n",
    "But there are other ways we can visualise the data to aid our interpretation. \n",
    "\n",
    "For example, if we select the `Histogram stretch` button: ![custom](images/custom.png)\n",
    "\n",
    "then we obtain a histogram view of the data, within which we can apply a contrast stretch by 'moving' the upper and lower thresholds.\n",
    "\n",
    "\n",
    "For greyscale:\n",
    "\n",
    "![hist](images/hist.png)\n",
    "\n",
    "or three band colour:\n",
    "\n",
    "![hist3](images/hist3.png)"
   ]
  },
  {
   "cell_type": "markdown",
   "metadata": {},
   "source": [
    "This can be useful both for performing a contrast stretch\n",
    "\n",
    "***experiment with this so that you understand what the linear contrast enhancement is doing to the image DN*** You may find it useful to save some historgrams and images and put these in your notes. For UCL Desktop the easiest way to do quick saving is using screenshots. Find the `On-Screen Keyboard` and `Paint` apps. Use the combo of *Windows-Icon*+*Shift*+*S*, to start a screenshot on UCL Desktop, then go to `Paint` and *Paste*. The screenshot should appear in paint for you to save. Make sure the `On-Screen Keyboard` doesn't obstruct your image. You can also paste into a word doc if you want to take notes.\n",
    "\n",
    "It is also of value in visualising the features of the histogram. The histogram shows the frequency of occurrence of the different DNs in the image. For example in the image above, we can describe the green waveband histogram (shown in green) as having two clear peaks and a long positive tail. The two peaks are most likely indicative of different land cover classes. The fact that there is a long positive tail may show a third 'bright' class present.\n",
    "\n",
    "***explore the histograms shown by some of the wavebands you have access to here***\n",
    "\n",
    "As you do this, think about the relationship between the informations shown in the image and that in the histogram. \n",
    "\n",
    "* How could you try to use the histogram to perform a classification on the image into different land cover classes?\n",
    "* What issues might you come across?\n",
    "* Do some bands show better separatbility than others? if so, which (and why?)\n",
    "* A histogram is a useful way of summarising the information in an image. In fact, we will often use even simpler descriptors to decsribe a frequency distribution such as this, one example being the *mean* and *standard deviation*. Would it be a good idea to describe these histograms in this way? If not, why not?"
   ]
  },
  {
   "cell_type": "markdown",
   "metadata": {},
   "source": [
    "One way of extending our view of such summary data is to use a scatter plot (often called a 'feature space' plot). ![tool](images/tool_scatter.png) `File->Select New Band`\n",
    "\n",
    "\n",
    "\n",
    "***locate the Scatter Plot Tool button, and display a scatter plot with the Red waveband (630-690 nm) on the x axis and the Near InferRed (700-900 nm) on the y axis***\n",
    "\n",
    "Toggle the `density slice` button to show the scatter plot in colour (density slice)\n",
    "\n",
    "\n",
    "![toggle1](images/toggle1.png)\n",
    "\n",
    "![toggle2](images/toggle2.png)\n",
    "\n",
    "\n"
   ]
  },
  {
   "cell_type": "markdown",
   "metadata": {},
   "source": [
    "You should now be able to define ('draw') regions onto the scatter plot, and the pixels within this specified region are then displayed in the defined colour on the image:\n",
    "\n",
    "![scatter1](images/scatter1.png)\n",
    "\n",
    "![scatter1a](images/scatter1a.jpg)\n",
    "\n",
    "***You should spend some time exploring this for different wavebands, as this concept forms the basis of many remote sensing algorithms (particularly those for classification)***\n",
    "\n",
    "As you do this, think about how the scatter plot and histogram information are related and also think about how you might get the computer to *describe* the regions you have drawn in the feature space plot.\n",
    "\n",
    "Think also about how using only one or two wavebands may be a limiting factor in classification (i.e. there is often information in other bands that may allow separability).\n",
    "\n",
    "Try using `Options -> Mean All` on the scatter plot tool. This shows you the class means across all bands. This should allow you to better think about how the classes you have drawn might be separable in different wavebands."
   ]
  },
  {
   "cell_type": "markdown",
   "metadata": {},
   "source": [
    "## Spectral Profiles"
   ]
  },
  {
   "cell_type": "markdown",
   "metadata": {},
   "source": [
    "***In this section, we will learn how to do plot spectral profiles***.\n",
    "\n",
    "Note that you may need to close the scatterplot tool before doing this.\n",
    "\n",
    "Although we can display (up to) three bands of information in a colour composite, we often wish to know more information.\n",
    "\n",
    "The various `Display->Profiles` tools can help in this regard as we can look at the DN in all wavebands (for a particular pixel).\n",
    "\n",
    "The following show some example spectral profiles:\n",
    "\n",
    "![spec1](images/spec1.png)\n",
    "\n",
    "![spec2](images/spec2.png)\n",
    "\n",
    "![spec3](images/spec3.png)\n",
    "\n",
    "**See if you can navigate your way to these locations and/or work out what 'material' is shown by the spectral profile**.\n",
    "if you want to save these plots, make sure to give them a descriptive name that will make sense next time you find them."
   ]
  },
  {
   "cell_type": "markdown",
   "metadata": {},
   "source": [
    "## Enhancement"
   ]
  },
  {
   "cell_type": "markdown",
   "metadata": {},
   "source": [
    "***In this section, we will learn how to perform a variety of enhancement tasks***.\n",
    "\n",
    "We have seen that ENVI has simple image display enhancement capabilities such as 'brightness' and 'contrast' variation via contrtol sliders. Open the `Histogram stretch` window to visualise the histograms again.\n",
    "\n",
    "These are often useful first pass enhancement tools to enable you to more readily visualise features in the image.\n",
    "\n",
    "Several 'automated' or semi-automated approaches also exist that may provide a useful enhancement under certain conditions. \n",
    "\n",
    "These are available via a menu (`Linear` being the default) as:\n",
    "\n",
    "![histlist](images/histlist553.png)\n",
    "\n",
    "For example,histogram equalisation is generally a useful visual enhancement method:\n",
    "\n",
    "![nohist](images/nohist553.png)\n",
    "![histo1](images/histo1-eq.png)\n"
   ]
  },
  {
   "cell_type": "markdown",
   "metadata": {},
   "source": [
    "***Explore the impact of various enhancement operations***\n",
    "\n",
    "You may find it easiest to do this using a 'greyscale' representation (so there is just a single waveband to think about).\n",
    "\n",
    "Think about how the different enhancements relate to the information in the histogram.\n",
    "\n",
    "***In particular, explore how you can use image enhancement to more readily differentiate different DN levels in a particular area of the image (e.g. the river)***"
   ]
  },
  {
   "cell_type": "markdown",
   "metadata": {},
   "source": [
    "## Comparing Images"
   ]
  },
  {
   "cell_type": "markdown",
   "metadata": {},
   "source": [
    "***In this section, we will examine some tools to use when comparing images***.\n",
    "\n",
    "Often, we wish to compare features from more than one image (e.g. Landsat images taken over an interval of time).\n",
    "\n",
    "There are several tools for exploring this in ENVI.\n",
    "\n",
    "First, remove the current loaded images from ENVI (Note down how you do this!), then load two dataset `ETM-190600` and `TM-280589`.\n",
    "\n",
    "One immediately obvious thing you can do is simply toggle each dataset `'on` and '`off` once it is loaded (using the dataset check box).\n",
    "\n",
    "You can use tools we have seen above, such as the scatterplot to visualise the scatter between the two datasets (`File->Select New Band`):\n",
    "\n",
    "![two](images/two.png)\n",
    "\n",
    "You can also very usefully 'draw' on this scatterplot to identify interesting features:\n",
    "\n",
    "![pink](images/pink.png)"
   ]
  },
  {
   "cell_type": "markdown",
   "metadata": {},
   "source": [
    "### Transparency"
   ]
  },
  {
   "cell_type": "markdown",
   "metadata": {},
   "source": [
    "Another option is to use the transparency slider ![](images/trans.png) to give different 'weights' of the two datasets. This might be useful, for instance to spot features that have changed between the two image dates:\n",
    "\n",
    "![z1](images/z1.png)\n",
    "\n",
    "![z2](images/z2.png)\n",
    "\n"
   ]
  },
  {
   "cell_type": "markdown",
   "metadata": {},
   "source": [
    "### Swipe and Flicker"
   ]
  },
  {
   "cell_type": "markdown",
   "metadata": {},
   "source": [
    "Sometimes it is useful to 'flicker' between the various images or 'swipe' one over the other to spot features of (change) interest.\n",
    "\n",
    "These can be done using the appropriate buttons on the command bar or under the `Display` option:\n",
    "\n",
    "![flk](images/flk.png)\n",
    "\n",
    "![swipe](images/swipe.png)"
   ]
  },
  {
   "cell_type": "markdown",
   "metadata": {},
   "source": [
    "### Views"
   ]
  },
  {
   "cell_type": "markdown",
   "metadata": {},
   "source": [
    "One other option is to change the number of 'views' on the screen display:\n",
    "\n",
    "![views](images/views.png)\n",
    "\n",
    "This will create new 'views':\n",
    "\n",
    "![view2](images/view2.png)\n",
    "\n",
    "And you can drag and drop loaded datasets to the particular view you want.\n",
    "\n",
    "***Use these various comparison tools to highlight areas of difference between the two images***"
   ]
  },
  {
   "cell_type": "markdown",
   "metadata": {},
   "source": [
    "## More Exploring"
   ]
  },
  {
   "cell_type": "markdown",
   "metadata": {},
   "source": [
    "Some other interesting options to explore:\n",
    "\n",
    "### Annotation\n",
    "\n",
    "On the control bar, you should see options for annotating the image. Experiment with annotating the image for a few features and work out how to save a 'picture' of what you have done (e.g. `File -> Chip view to-> File ...`):\n",
    "\n",
    "![chip](images/chip.jpg)\n",
    "\n",
    "### Google Earth\n",
    "\n",
    "If you have tools such as [Google Earth](http://www.google.co.uk/intl/en_uk/earth/) set up on the computer you are using, try `File->Chip view to->Google Earth`\n",
    "\n",
    "![google](images/google.png)"
   ]
  },
  {
   "cell_type": "markdown",
   "metadata": {},
   "source": [
    "## Summary"
   ]
  },
  {
   "cell_type": "markdown",
   "metadata": {},
   "source": [
    "The main aim of this practical is to get you used to using the image processing software tool `envi`.\n",
    "\n",
    "In this practical, we have loaded two Landsat images of London and used various tools within `envi` to visualise the data and their information content.\n",
    "\n",
    "In particular, we have learned about:\n",
    "\n",
    "* Image Display\n",
    "    * False Colour Composites\n",
    "    * Real Colour Composites\n",
    "    * Greyscale display\n",
    "    * Spectral profiles\n",
    "\n",
    "\n",
    "* Feature Space\n",
    "    * Histograms\n",
    "    * Scatterplots\n",
    "    \n",
    "    \n",
    "* Enhancement\n",
    "    * Linear contrast enhancement\n",
    "    * Histogram equalisation\n",
    "    "
   ]
  }
 ],
 "metadata": {
  "kernelspec": {
   "display_name": "Python 3",
   "language": "python",
   "name": "python3"
  },
  "language_info": {
   "codemirror_mode": {
    "name": "ipython",
    "version": 3
   },
   "file_extension": ".py",
   "mimetype": "text/x-python",
   "name": "python",
   "nbconvert_exporter": "python",
   "pygments_lexer": "ipython3",
   "version": "3.6.12"
  },
  "toc": {
   "base_numbering": 1,
   "nav_menu": {},
   "number_sections": false,
   "sideBar": false,
   "skip_h1_title": false,
   "title_cell": "Table of Contents",
   "title_sidebar": "Contents",
   "toc_cell": false,
   "toc_position": {
    "height": "calc(100% - 180px)",
    "left": "10px",
    "top": "150px",
    "width": "216.796875px"
   },
   "toc_section_display": false,
   "toc_window_display": false
  }
 },
 "nbformat": 4,
 "nbformat_minor": 4
}
