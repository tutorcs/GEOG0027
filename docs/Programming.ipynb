{
 "cells": [
  {
   "cell_type": "markdown",
   "metadata": {},
   "source": [
    "# Programming"
   ]
  },
  {
   "cell_type": "markdown",
   "metadata": {},
   "source": [
    "The ENVI application is written in a language called IDL.\n",
    "\n",
    "You can use this to automate various tasks.\n",
    "\n",
    "As a first example, let's load an image from the command prompt, following the [envi help pages example](http://www.exelisvis.com/docs/programmingguidegettingstarted.html).\n",
    "\n",
    "Having started `ENVI`, you should see an `ENVI` prompt:"
   ]
  },
  {
   "cell_type": "markdown",
   "metadata": {},
   "source": [
    "    ENVI> "
   ]
  },
  {
   "cell_type": "markdown",
   "metadata": {},
   "source": [
    "At the `ENVI` prompt, type:\n",
    "\n",
    "    ENVI> here = getenv('PWD')\n",
    "    ENVI> e = ENVI(/CURRENT)     \n",
    "    ENVI> File = FILEPATH('ETM-190600',Subdir=['data'], Root_Dir=here)\n",
    "    ENVI> Raster = e.OpenRaster(File)\n",
    "    ENVI> View = e.GetView()\n",
    "    ENVI> Layer = View.CreateLayer(Raster)\n",
    "    ENVI> View.Zoom, /FULL_EXTENT\n",
    "    ENVI> data = raster.GetData(BANDS=[1,2,3], SUB_RECT=[100,449,550,899])\n"
   ]
  },
  {
   "cell_type": "markdown",
   "metadata": {},
   "source": [
    "Explaining that:\n",
    "    \n",
    "Set a variable called `here` to be the current directory (i.e. where we started from). In fact, this needs to be the directory where the data are in this case.\n",
    "    \n",
    "    ENVI> here = getenv('PWD')\n",
    "\n",
    "Now connect to the `ENVI` windowing session and return the variable `e` that contains information on that session.\n",
    "    \n",
    "    ENVI> e = ENVI(/CURRENT)     \n",
    "    \n",
    "Soecify the full pathname of the raster file we want to load. \n",
    "\n",
    "    ENVI> File = FILEPATH('ETM-190600',Subdir=['data'], Root_Dir=here)\n",
    "  \n",
    "Load the raseter dataset into ENVI.\n",
    "\n",
    "    ENVI> raster = e.OpenRaster(file)\n",
    "    \n",
    "Create a 'layer' and display the inage.\n",
    "\n",
    "    ENVI> View = e.GetView()\n",
    "    ENVI> Layer = View.CreateLayer(Raster)\n",
    "    ENVI> View.Zoom, /FULL_EXTENT\n",
    "    \n",
    "In this last command, we load bands 1 2 and 3 into the array `data`"
   ]
  },
  {
   "cell_type": "code",
   "execution_count": null,
   "metadata": {},
   "outputs": [],
   "source": []
  }
 ],
 "metadata": {
  "kernelspec": {
   "display_name": "Python 3",
   "language": "python",
   "name": "python3"
  },
  "language_info": {
   "codemirror_mode": {
    "name": "ipython",
    "version": 3
   },
   "file_extension": ".py",
   "mimetype": "text/x-python",
   "name": "python",
   "nbconvert_exporter": "python",
   "pygments_lexer": "ipython3",
   "version": "3.6.6"
  },
  "toc": {
   "base_numbering": 1,
   "nav_menu": {},
   "number_sections": false,
   "sideBar": false,
   "skip_h1_title": false,
   "title_cell": "Table of Contents",
   "title_sidebar": "Contents",
   "toc_cell": false,
   "toc_position": {},
   "toc_section_display": false,
   "toc_window_display": false
  }
 },
 "nbformat": 4,
 "nbformat_minor": 1
}
