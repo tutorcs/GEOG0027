{
 "cells": [
  {
   "cell_type": "markdown",
   "metadata": {},
   "source": [
    "<img style=\"float: left\" src=\"images/ucl_logo.png\">\n"
   ]
  },
  {
   "cell_type": "markdown",
   "metadata": {},
   "source": [
    "# Classification using ENVI 5.5"
   ]
  },
  {
   "cell_type": "markdown",
   "metadata": {},
   "source": [
    "## Aims"
   ]
  },
  {
   "cell_type": "markdown",
   "metadata": {},
   "source": [
    "After completing this practical, you should be able to analyse one or more image datasets using classification methods. This includes learning to identify land cover classes in a dataset and consider class separability (using histograms, scatterplots and other tools), and applying and assessing a classification product using Envi. "
   ]
  },
  {
   "cell_type": "markdown",
   "metadata": {},
   "source": [
    "## Data"
   ]
  },
  {
   "cell_type": "markdown",
   "metadata": {},
   "source": [
    "The datasets you need for this practical are available from the [Classification data (Rondônia) folder on moodle](https://moodle.ucl.ac.uk/mod/folder/view.php?id=2749790) or you can download them individually:\n",
    "\n",
    "* [ETM-110801](https://www.dropbox.com/s/00ry60nu6281umi/ETM-110801?dl=0)\n",
    "* [ETM-110801.HDR](https://www.dropbox.com/s/ojx1patlqhxf5ci/ETM-110801.HDR?dl=0)\n",
    "* [TM-250792](https://www.dropbox.com/s/3ww9oera1y1858a/TM-250792?dl=0)\n",
    "* [TM-250792.HDR](https://www.dropbox.com/s/x3r6j66ilc57u3e/TM-250792.HDR?dl=0)\n",
    "* [SRTM-2002](https://www.dropbox.com/s/jdcdb85ltublhdo/SRTM-2002?dl=0)\n",
    "* [SRTM-2002.HDR](https://www.dropbox.com/s/8zir0gmm9aycy0s/SRTM-2002.HDR?dl=0)\n",
    "\n",
    "\n",
    "You should download these data and put them in a directory (folder) that you will remember!\n",
    "\n",
    "The data you will be using are:\n",
    "\n",
    "* six wavebands of a Landsat TM image over Rondonia, Brazil, imaged on 25th July 1992.  The data are at an original pixel spacing of 28.5 m. \n",
    "\n",
    "* six wavebands (nominally the same wavelengths) of a Landsat ETM image with the same spatial resolution, covering the same spatial extent. These data were obtained on 11th August 2001. \n",
    "\n",
    "*  Digital Elevation model (DEM) data, obtained by RADAR interferometry from data on the SRTM ([Shuttle Radar Topography Mission](http://www2.jpl.nasa.gov/srtm/)), are also available for the site. The data have been resampled to the same reolution and area as the TM/ETM data above.\n",
    "\n",
    "The wavebands are:\n",
    "\n",
    "|1|2|3|4|5|6|\n",
    "| --- | --- | --- | --- | --- | --- |\n",
    "| blue | green | red | nir | swir 1 | swir 2 |\n",
    "|450-520 nm|520-600 nm| 630-690 nm|760-900 nm|1550-1750 nm|2080-2350 nm|\n",
    "\n",
    "The extent of the imagery is (Lat/Lon): \n",
    "\n",
    "$$\n",
    "    11^o 1' 31.29'' S,  62^o 58' 27.57'' W \\rightarrow \n",
    "    11^o 57' 4.75'' S, 62^o 1' 55.96'' W \n",
    "$$\n",
    "\n",
    "\n",
    "The full SRTM data can be loaded into [google earth](http://www.ambiotek.com/srtm), if you have access to this.\n",
    "\n",
    "![srtm](images/srtm.gif)\n",
    "\n",
    "Although you have the data 'pre-packaged' for this practical, you can download your own datasets using the USGS [Glovis](http://glovis.usgs.gov) tool:\n",
    "\n",
    "![glovis](images/glovis.png)\n",
    "\n",
    "We can of course explore the area in Google Maps, which we may find useful for exploring the classification."
   ]
  },
  {
   "cell_type": "markdown",
   "metadata": {},
   "source": [
    "##  Introduction"
   ]
  },
  {
   "cell_type": "markdown",
   "metadata": {},
   "source": [
    "***In this section, we load the image data we wish to explore***."
   ]
  },
  {
   "cell_type": "markdown",
   "metadata": {},
   "source": [
    "\n",
    "Importantly, we have the ability to map these changes from the archive of satellite data, particularly data from the Landsat series of satellites. An excellent introduction to visualising environmental change from Landsat data is given by [Jeffrey Kluger](http://world.time.com/timelapse/).\n",
    "\n",
    "Using data such as these, we can 'track' the changes in land cover over time. \n",
    "\n",
    "\n",
    "\n",
    "For example, data produced by Google and Dr. Matthew Hansen at the University of Maryland which shows [global maps of forest change (2000-2019)](http://earthenginepartners.appspot.com/science-2013-global-forest) using Landsat data (see [Science article](http://www.sciencemag.org/content/342/6160/850)), with red showing loss in 2019 through to yellow  for the year 2000 (using pseudocolour), or with 2019 highlighted in aqua blue if you are viewing the default 'Forest Loss Year (2019 Highlight) product.\n",
    "![maryland-forest-change.png](images/maryland-forest-change.png)"
   ]
  },
  {
   "cell_type": "markdown",
   "metadata": {},
   "source": [
    "The purpose of this practical is for you to perform and test a land cover classification over this area, using data from two dates (1992 and 2001). The visualisations above show that there has been significant change *since* 2001 (and before 1992). \n",
    "\n",
    "We will be doing this using separate classifications of the two image dates, but you should be thinking throughout about whether this is an appropriate method, and what else you might consider (especially if you had a long time series of data such as those shown in the animations).\n",
    "\n",
    "We will be doing a *supervised* classification here.\n",
    "\n",
    "The steps you will undertake are:\n",
    "\n",
    "* Examine the data and explore the spectral characteristics\n",
    "* Define a series of Regions of Interest (ROIs) describing the classes you wish to extract\n",
    "* Perform the classification\n",
    "* Test the result\n",
    "\n",
    "\n",
    "First, obtain and then load the `TM` and `ETM` images of Rondonia noted above, along with the SRTM DEM file.\n",
    "\n",
    "**View the ETM image as a FCC.**\n",
    "\n",
    "![fccR](images/fccR.png)\n",
    "\n",
    "You may need to edit the image file to associate the DEM data correctly. To do this, look under 'Raster Management' in the Toolbox, and edit the ENVI header (for the Landsat data). You should then edit the header attributes to associate the DEM with the image data.\n",
    "\n"
   ]
  },
  {
   "cell_type": "code",
   "execution_count": null,
   "metadata": {},
   "outputs": [],
   "source": []
  }
 ],
 "metadata": {
  "kernelspec": {
   "display_name": "Python 3",
   "language": "python",
   "name": "python3"
  },
  "language_info": {
   "codemirror_mode": {
    "name": "ipython",
    "version": 3
   },
   "file_extension": ".py",
   "mimetype": "text/x-python",
   "name": "python",
   "nbconvert_exporter": "python",
   "pygments_lexer": "ipython3",
   "version": "3.6.12"
  },
  "toc": {
   "base_numbering": 1,
   "nav_menu": {},
   "number_sections": false,
   "sideBar": true,
   "skip_h1_title": false,
   "title_cell": "Table of Contents",
   "title_sidebar": "Contents",
   "toc_cell": false,
   "toc_position": {},
   "toc_section_display": true,
   "toc_window_display": false
  }
 },
 "nbformat": 4,
 "nbformat_minor": 4
}
