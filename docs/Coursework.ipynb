{
 "cells": [
  {
   "cell_type": "markdown",
   "metadata": {},
   "source": [
    "# Coursework\n",
    "\n",
    "## Coursenotes\n",
    "\n",
    "The material for the **associated coursework** is available via:\n",
    "\n",
    "* [readthedocs](https://geog0027-coursework.readthedocs.io/en/latest/)\n",
    "* [github](https://github.com/profLewis/GEOG0027_Coursework)\n",
    "* [binder](https://mybinder.org/v2/gh/profLewis/GEOG0027_Coursework.git/master)\n",
    "* [RStudio in binder](https://mybinder.org/v2/gh/profLewis/GEOG0027_Coursework.git/master?urlpath=rstudio)\n",
    "\n",
    "\n",
    "        "
   ]
  }
 ],
 "metadata": {
  "kernelspec": {
   "display_name": "Python 3",
   "language": "python",
   "name": "python3"
  },
  "language_info": {
   "codemirror_mode": {
    "name": "ipython",
    "version": 3
   },
   "file_extension": ".py",
   "mimetype": "text/x-python",
   "name": "python",
   "nbconvert_exporter": "python",
   "pygments_lexer": "ipython3",
   "version": "3.6.6"
  },
  "toc": {
   "base_numbering": 1,
   "nav_menu": {},
   "number_sections": false,
   "sideBar": false,
   "skip_h1_title": false,
   "title_cell": "Table of Contents",
   "title_sidebar": "Contents",
   "toc_cell": false,
   "toc_position": {},
   "toc_section_display": false,
   "toc_window_display": false
  }
 },
 "nbformat": 4,
 "nbformat_minor": 2
}
