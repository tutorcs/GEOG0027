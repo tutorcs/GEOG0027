{
 "cells": [
  {
   "cell_type": "markdown",
   "metadata": {},
   "source": [
    "![](images/ucl_logo.png)"
   ]
  },
  {
   "cell_type": "markdown",
   "metadata": {},
   "source": [
    "# Download data "
   ]
  },
  {
   "cell_type": "markdown",
   "metadata": {},
   "source": [
    "In this section, you will learn how to order Landsat data from the USGS, including how to search only for the area we are interested in.\n",
    "\n",
    "You will attempt to find two clear scenes (cloud-free or nearly so) for your area of interest.\n",
    "\n",
    "You will then learn how to download the datasets.\n",
    "\n",
    "Finally, we present one *manual* and one *automated* method for scaling the data, subsetting and producing a mask.\n",
    "\n",
    "This is a skill you will need to complete the assessed coursework.\n",
    "\n",
    "Once you have this skill, you can start collecting the datasets for the practical.\n",
    "\n",
    "You do not need to use the 'automated' subsetting method: you can do everything manually if you wish. "
   ]
  },
  {
   "cell_type": "markdown",
   "metadata": {},
   "source": [
    "## Downloading and visualisation tools "
   ]
  },
  {
   "cell_type": "markdown",
   "metadata": {},
   "source": [
    "\n",
    "The first task is to download the data that you will need.\n",
    "\n",
    "There are several tools available to you for browsing and ordering Landsat data. See the [USGS](https://www.usgs.gov/land-resources/nli/landsat/landsat-data-access?qt-science_support_page_related_con=0#qt-science_support_page_related_con) for a full description of the data products and where to order them.\n",
    "\n",
    "You will most often be interested in **surface reflectance** products. These can be ordered through the [USGS Earth Resources Observation and Science (EROS) Center Science Processing Architecture (ESPA) On Demand Interface](https://espa.cr.usgs.gov/).\n",
    "\n",
    "\n",
    "The first time you visit the ordering service, you will need to [register for an account](https://ers.cr.usgs.gov/register/). Make sure you remember the usename and password you used for registration!\n",
    "\n",
    "Once at the [USGS Earth Resources Observation and Science (EROS) Center Science Processing Architecture (ESPA) On Demand Interface](https://espa.cr.usgs.gov/) site, make yourself aware of the information on [surface reflectance](https://www.usgs.gov/land-resources/nli/landsat/landsat-surface-reflectance?qt-science_support_page_related_con=0#qt-science_support_page_related_con).\n",
    "\n"
   ]
  },
  {
   "cell_type": "markdown",
   "metadata": {},
   "source": [
    "## Select Landsat Scenes\n",
    "\n",
    "To select a particular landsat scene, go to the [Earth Explorer](https://earthexplorer.usgs.gov) site.\n",
    "\n",
    "Enter the place you are interested in, in the `Search Criteria` (e.g. try: London, England) or select an area on the graphic using the `Use Map` polygon option.\n",
    "\n",
    "Under `Data Sets`, look in `Landsat -> Collection 1 Level 1` and check all of the boxes that have surface reflectance data. This will be for different sensors in the Landsat series (LS4-5, LS-7, LS-8).\n",
    "\n",
    "You *may* wish to set a cloud cover limitation (e.g. 10%) under `Additional Criteria`.\n",
    "\n",
    "Click on 'Results' and look at a few of the images. In particular, you should look at [which `PATH` and `ROW`](https://landsat.usgs.gov/landsat_acq) is appropriate for the area you want data for. This could, for example be\n",
    "\n",
    "        Path 201\n",
    "        Row 24\n",
    "        \n",
    "        \n",
    "Now, you can go back to the `Search Criteria` and enter just the path/row that you want, and/or just go through and add the files you want to download to the basket. This is the bar you have:\n",
    "Footprint, Overlay, Compare, Metadata, Download, Bulk Download, Order Scene, Remove\n",
    " \n",
    "![options](images/USGS_options.png)\n",
    "\n",
    "The first two are good for looking at, checking the cloud cover, and image cover. Choose either Download, or Bulk Download to get the full image. Select the GeoTIFF, the largest file.\n",
    "\n",
    "For bulk download you can the view the basket, and submit the order. For this practical I suggest the DOWNLOAD option, getting immediate access to an image. \n",
    "\n",
    "You should first try the Bulk Donwload with a small number of datasets, but it is quite straightforward to order many scenes if you need them.\n",
    "\n",
    "If the order has worked, you will receive an email and also a notification when the data are ready for download. The order can be checked here [https://dds.cr.usgs.gov/queue/orders/](https://dds.cr.usgs.gov/queue/orders/).\n",
    "\n",
    "<!-- You can also check this through the API, e.g. by clicking [https://espa.cr.usgs.gov/api/v0/list-orders](https://espa.cr.usgs.gov/api/v0/list-orders) and entering your username and password. -->\n",
    "\n",
    "<!-- Alternatively, in a Unix/Mac terminal (or the Windows equivalent) for a particular order (in this case, `p.lewis@ucl.ac.uk-0101701110213`, with `MYUSERNAME:MYPASSWORD` set appropriately), use e.g.: -->\n",
    "\n",
    "\n",
    "<!-- [curl --user MYUSERNAME:MYPASSWORD https://espa.cr.usgs.gov/api/v0/order/p.lewis@ucl.ac.uk-0101701110213](https://espa.cr.usgs.gov/api/v0/order/p.lewis@ucl.ac.uk-0101701110213) -->\n",
    "\n",
    "Once you get confirmation that the order is ready (this can, at times, take days but is usually less), you can then download the dataset.\n",
    "\n",
    "## Download ordered data\n",
    "\n",
    "You can simply download the data by following the links in the email you receive.\n",
    "\n",
    "Alternatively, there are various tools you can use for bulk download.\n",
    "\n",
    "One example is [espa-bulk-downloader](), which is a python script. You use this, e.g.:https://code.usgs.gov/espa/bulk-downloader\n",
    "\n",
    "        download_espa_order.py -e p.lewis@ucl.ac.uk -d ~/Downloads -u p.lewis@ucl.ac.uk -p MYPASSWORD -o ALL\n",
    "This is very handy if you wish to download a large amount of data to a remote network.\n",
    "        \n",
    "You can also use the USGS download app [https://dds.cr.usgs.gov/bulk/](https://dds.cr.usgs.gov/bulk/), though this is unavailable on UCL Desktop."
   ]
  },
  {
   "cell_type": "markdown",
   "metadata": {},
   "source": [
    "## Unpacking Downloaded data\n",
    "\n",
    "The images from USGS come intially in a compressed `tar.gz` file. This can be unpacked using either a command line or terminal on a unix or Mac machine. For UCL Desktop use the Command Prompt app.\n",
    "\n",
    "We will navigate to the downloaded file using typed commands. There exists a typed command for everything you may wish to do. First to get to the correct file system \n",
    "`N:`\n",
    "then get to the data folder\n",
    "`cd GEOG0027/data` (or wherever you downloaded the data)\n",
    "List all the files in this directory\n",
    "`dir`\n",
    "The downloaded file will be in this list.\n",
    "Then extract all the images using\n",
    "`tar -zxvf  DOWNLOADED_FILE.tar.gz` (changing the `tar.gz` file name to the file you downloaded).\n",
    "You will see tiff files for each band.\n"
   ]
  },
  {
   "cell_type": "markdown",
   "metadata": {},
   "source": [
    "## Fixing Landsat 7 SLC issues\n",
    "\n",
    "If you make use of Landsat 7 data (after [slc failure in 2003](https://www.usgs.gov/core-science-systems/nli/landsat/landsat-7?qt-science_support_page_related_con=0#qt-science_support_page_related_con) you may wish to perform a 'gap filling' on the dataset prior to use.\n",
    "\n",
    "There are many such algorithms. One you can use quite easily is mentioned [here](http://gis.stackexchange.com/questions/75151/fix-landsat-7-slc-off-in-envi).\n",
    "\n",
    "To use this, download the file [Landsat Gapfill IDL Model](http://s3.amazonaws.com/nrcs-sgi/EvansModels/landsat_gapfill.sav), either directly to, or copied to your `envi/extensions` directory (change folder permission if needed). From Desktop@UCL, your envi extension folder should be `N:/.idl/envi/extensions5_5` or check your directory settings as shown below:\n",
    "![](images/envi-extension-dir.png)\n",
    "\n",
    "On a unix machine, this will involve e.g.:\n",
    "\n",
    "        cp ~/Downloads/landsat_gapfill.sav ~/.idl/envi/extensions5_5\n",
    "        \n",
    "        \n",
    "Then, you should find the model available to you the next time you run `envi`, under the `extensions` menu. To view the toolbox you need to press `F3`. You may need to use the on-screen keyboard on UCL Desktop to do this\n",
    "![](images/envi_gapfill.png)\n",
    "\n",
    "You may need to run this file seperately for each waveband.\n",
    "\n",
    "Once the extension is run it will wish to save the corrected image. You can rewrite the original image, or created a fixed version. As you can see we are creating a lot of data, so you may wish to make more folders to keep it all organised and tidy.\n"
   ]
  },
  {
   "cell_type": "markdown",
   "metadata": {},
   "source": [
    "### Viewing Multiband Files\n",
    "\n",
    "To view a composite image from the seperate `.tiff` files we use the Data Manager\n",
    "![](images/ENVI_manage_tiff.png)\n",
    "\n",
    "To work out which file represents which wavelength read the documentation here [https://www.usgs.gov/faqs/what-are-band-designations-landsat-satellites](https://www.usgs.gov/faqs/what-are-band-designations-landsat-satellites)\n",
    "\n",
    "Can you recreate a true colour image, or one of the diagnostic images discussed in this weeks lecture? Remember the skills presented in last weeks practical."
   ]
  },
  {
   "cell_type": "markdown",
   "metadata": {},
   "source": [
    "<!-- ## Easier ordering\n",
    "\n",
    "If you have a particular scene you want to order, e.g. `LE72010242008129ASN00`\n",
    "\n",
    "\n",
    "        curl --user p.lewis@ucl.ac.uk:ST6-kyH-TBZ-ATy -d '{\"etm7\": {\n",
    "                                                    \"inputs\": [\"LE72010242008129ASN00\"], \n",
    "                                                    \"products\": [\"sr\",\"cloud\"]\n",
    "                                                 }, \n",
    "                                     \"format\": \"envi\", \n",
    "                                     \"resize\": {\n",
    "                                                \"pixel_size\": 30, \n",
    "                                                \"pixel_size_units\": \"meters\"\n",
    "                                                }, \n",
    "                                     \"resampling_method\": \"nn\", \n",
    "                                     \"plot_statistics\": true, \n",
    "                                     \"projection\": {\n",
    "                                                    \"utm\": {\n",
    "                                                            \"zone\": 30,\n",
    "                                                            \"zone_ns\": \"north\"\n",
    "                                                            }\n",
    "                                                    },\n",
    "                                     \"note\": \"my first order...\"\n",
    "                                     }' https://espa.cr.usgs.gov/api/v0/order\n",
    "                                     \n",
    "                                     \n",
    "                                     \n",
    " One useful feature of this way of ordering is that you can specify the file format. In this case, we specify `envi` format, which saves us having to mess around with file formats once we download the data.\n",
    "  -->"
   ]
  },
  {
   "cell_type": "markdown",
   "metadata": {},
   "source": [
    "## Download Scenes"
   ]
  },
  {
   "cell_type": "markdown",
   "metadata": {},
   "source": [
    "You will be sent an email from the USGS.\n",
    "\n",
    "**You must keep this email to show evidence that you have ordered the data**.\n",
    "\n",
    "\n",
    "The email will give you a web address that will look something like [http://espa.cr.usgs.gov/ordering/order-status/p.lewis@ucl.ac.uk-01112017-113611-005](http://espa.cr.usgs.gov/ordering/order-status/p.lewis@ucl.ac.uk-01112017-113611-005). \n",
    "\n",
    "If you have recent or active orders, this web page should show you the status for each file (wait until it says 'complete').\n",
    "\n",
    "Then, you can download the file (using the Download link).\n",
    "\n",
    "**You must keep a record of the download links to show evidence that you have ordered the data**, e.g.:\n",
    "\n",
    "`http://espa.cr.usgs.gov/orders/f.bloggs@nasa.gov-0101502242983/LE71220442000306-SC20150224104838.tar.gz`\n",
    "\n",
    "Save all of the download links in a file to include in your report.\n",
    "\n",
    "The filename will be something like:\n",
    "\n",
    "`LE71220441999255-SC20150217105511.tar.gz`\n",
    "\n",
    "There is no need to 'unzip' or 'untar' the file: just download it for the moment.\n",
    "\n",
    "**Make sure you remember which directory you have downloaded the data to.** \n",
    "\n",
    "You should probably download the datasets to your `N: Drive` (or `DATA` disk in the Unix lab), or you might run out of quota, or at least move the files to the `N: Drive` (or `DATA` disk) soon after.\n",
    "\n",
    "As the files are quite large, it may take some minutes to download each scene."
   ]
  },
  {
   "cell_type": "code",
   "execution_count": null,
   "metadata": {},
   "outputs": [],
   "source": []
  }
 ],
 "metadata": {
  "kernelspec": {
   "display_name": "Python 3",
   "language": "python",
   "name": "python3"
  },
  "language_info": {
   "codemirror_mode": {
    "name": "ipython",
    "version": 3
   },
   "file_extension": ".py",
   "mimetype": "text/x-python",
   "name": "python",
   "nbconvert_exporter": "python",
   "pygments_lexer": "ipython3",
   "version": "3.6.12"
  },
  "toc": {
   "base_numbering": 1,
   "nav_menu": {},
   "number_sections": false,
   "sideBar": false,
   "skip_h1_title": false,
   "title_cell": "Table of Contents",
   "title_sidebar": "Contents",
   "toc_cell": false,
   "toc_position": {},
   "toc_section_display": false,
   "toc_window_display": false
  }
 },
 "nbformat": 4,
 "nbformat_minor": 4
}
